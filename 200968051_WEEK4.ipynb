{
  "cells": [
    {
      "cell_type": "markdown",
      "source": [
        "# MOHD ARHAM SHAIKH\n",
        "# 200968051\n",
        "# WEEK4"
      ],
      "metadata": {
        "id": "yXeYNh8dyGRb"
      }
    },
    {
      "cell_type": "code",
      "source": [
        "# installing easyAI\n",
        "\n",
        "!pip install easyAI"
      ],
      "outputs": [
        {
          "output_type": "stream",
          "name": "stdout",
          "text": "Looking in indexes: https://pypi.org/simple, https://us-python.pkg.dev/colab-wheels/public/simple/\nCollecting easyAI\n  Downloading easyAI-2.0.12-py3-none-any.whl (42 kB)\n\u001b[2K     \u001b[90m━━━━━━━━━━━━━━━━━━━━━━━━━━━━━━━━━━━━━━━━\u001b[0m \u001b[32m42.2/42.2 KB\u001b[0m \u001b[31m1.8 MB/s\u001b[0m eta \u001b[36m0:00:00\u001b[0m\n\u001b[?25hRequirement already satisfied: numpy in /usr/local/lib/python3.8/dist-packages (from easyAI) (1.22.4)\nInstalling collected packages: easyAI\nSuccessfully installed easyAI-2.0.12\n"
        }
      ],
      "execution_count": null,
      "metadata": {
        "colab": {
          "base_uri": "https://localhost:8080/"
        },
        "id": "pE3RFC2T9MzQ",
        "outputId": "d632d5da-6d54-412a-a8ad-639260e03567"
      }
    },
    {
      "cell_type": "markdown",
      "source": [
        "### Write a python program to define and implement a tic—tac-toe game with one human player. "
      ],
      "metadata": {
        "id": "qzgRbovU9Ws1"
      }
    },
    {
      "cell_type": "code",
      "source": [
        "from easyAI import TwoPlayerGame\n",
        "from easyAI.Player import Human_Player\n",
        "\n",
        "#defining a class for Tic Tac Toe game and all required functions for the enviornment\n",
        "class TicTacToe(TwoPlayerGame):\n",
        "    \"\"\"The board positions are numbered as follows:\n",
        "    1 2 3\n",
        "    4 5 6\n",
        "    7 8 9\n",
        "    \"\"\"\n",
        "\n",
        "    def __init__(self, players):\n",
        "        self.players = players\n",
        "        self.board = [0 for i in range(9)]\n",
        "        self.current_player = 1  # player 1 starts.\n",
        "\n",
        "    def possible_moves(self):\n",
        "        return [i + 1 for i, e in enumerate(self.board) if e == 0]\n",
        "\n",
        "    def make_move(self, move):\n",
        "        self.board[int(move) - 1] = self.current_player\n",
        "\n",
        "    def unmake_move(self, move):  # optional method (speeds up the AI)\n",
        "        self.board[int(move) - 1] = 0\n",
        "\n",
        "    def lose(self):\n",
        "        \"\"\" Has the opponent \"three in line ?\" \"\"\"\n",
        "        return any(\n",
        "            [\n",
        "                all([(self.board[c - 1] == self.opponent_index) for c in line])\n",
        "                for line in [\n",
        "                    [1, 2, 3],\n",
        "                    [4, 5, 6],\n",
        "                    [7, 8, 9],  # horiz.\n",
        "                    [1, 4, 7],\n",
        "                    [2, 5, 8],\n",
        "                    [3, 6, 9],  # vertical\n",
        "                    [1, 5, 9],\n",
        "                    [3, 5, 7],\n",
        "                ]\n",
        "            ]\n",
        "        )  # diagonal\n",
        "\n",
        "    def is_over(self):\n",
        "        return (self.possible_moves() == []) or self.lose()\n",
        "\n",
        "    def show(self):\n",
        "        print(\n",
        "            \"\\n\"\n",
        "            + \"\\n\".join(\n",
        "                [\n",
        "                    \" \".join([[\".\", \"O\", \"X\"][self.board[3 * j + i]] for i in range(3)])\n",
        "                    for j in range(3)\n",
        "                ]\n",
        "            )\n",
        "        )\n",
        "\n",
        "    def scoring(self):\n",
        "        return -1 if self.lose() else 1"
      ],
      "outputs": [],
      "execution_count": null,
      "metadata": {
        "id": "GhjVXT6b9Xar"
      }
    },
    {
      "cell_type": "code",
      "source": [
        "from easyAI import AI_Player, Negamax\n",
        "\n",
        "if __name__ == \"__main__\":\n",
        "    TicTacToe([Human_Player(), AI_Player(Negamax(5))]).play()"
      ],
      "outputs": [
        {
          "output_type": "stream",
          "name": "stdout",
          "text": "\n. . .\n. . .\n. . .\n\nPlayer 1 what do you play ? 1\n\nMove #1: player 1 plays 1 :\n\nO . .\n. . .\n. . .\n\nMove #2: player 2 plays 2 :\n\nO X .\n. . .\n. . .\n\nPlayer 1 what do you play ? 9\n\nMove #3: player 1 plays 9 :\n\nO X .\n. . .\n. . O\n\nMove #4: player 2 plays 5 :\n\nO X .\n. X .\n. . O\n\nPlayer 1 what do you play ? 7\n\nMove #5: player 1 plays 7 :\n\nO X .\n. X .\nO . O\n\nMove #6: player 2 plays 8 :\n\nO X .\n. X .\nO X O\n"
        }
      ],
      "execution_count": null,
      "metadata": {
        "colab": {
          "base_uri": "https://localhost:8080/"
        },
        "id": "zsMIuhIm9hwI",
        "outputId": "64977cda-000e-47dd-ee94-64b54a5969e0"
      }
    },
    {
      "cell_type": "markdown",
      "source": [
        "### Solve the game using the built in algorithms and compare the solutions. "
      ],
      "metadata": {
        "id": "yoWECM4Q946V"
      }
    },
    {
      "cell_type": "markdown",
      "source": [
        "#### Iterative Deepening Search"
      ],
      "metadata": {
        "id": "m8UFfEjh9-C4"
      }
    },
    {
      "cell_type": "code",
      "source": [
        "from easyAI import solve_with_iterative_deepening\n",
        "r,d,m = solve_with_iterative_deepening(\n",
        "    game=TicTacToe([]),\n",
        "    ai_depths=range(2,9),\n",
        "    win_score=100\n",
        ")"
      ],
      "outputs": [
        {
          "output_type": "stream",
          "name": "stdout",
          "text": "d:2, a:1, m:1\nd:3, a:-1, m:1\nd:4, a:1, m:1\nd:5, a:-1, m:1\nd:6, a:1, m:1\nd:7, a:-1, m:1\nd:8, a:1, m:1\n"
        }
      ],
      "execution_count": null,
      "metadata": {
        "colab": {
          "base_uri": "https://localhost:8080/"
        },
        "id": "KUYKnA-g9-9R",
        "outputId": "f6c2c1eb-d46b-4277-a2a6-41282d29db65"
      }
    },
    {
      "cell_type": "markdown",
      "source": [
        "#### Depth First search"
      ],
      "metadata": {
        "id": "ASVf0Q6y-Cwl"
      }
    },
    {
      "cell_type": "code",
      "source": [
        "from easyAI import solve_with_depth_first_search\n",
        "u = solve_with_depth_first_search(\n",
        "    game=TicTacToe([]),\n",
        "    win_score=100\n",
        ")\n",
        "print(u)"
      ],
      "outputs": [
        {
          "output_type": "stream",
          "name": "stdout",
          "text": "0\n"
        }
      ],
      "execution_count": null,
      "metadata": {
        "colab": {
          "base_uri": "https://localhost:8080/"
        },
        "id": "u8XWRz4t-G9j",
        "outputId": "fc1f1b73-0857-4c76-d195-ba887b4ea3aa"
      }
    },
    {
      "cell_type": "markdown",
      "source": [
        "#### Depth First search v/s Iterative Deepening Search\n",
        "\n",
        "#### Depth First search\n",
        "In a DFS, we start at the initial node in the graph and keep going on to explore deeper and deeper into the graph while we are able to find new and unexplored nodes or we find the solution. \n",
        "\n",
        "If the search algorithm runs out of branches to explore, it will backtrack to the last point where it could go down a different branch and explores from there. \n",
        "\n",
        "This causes problems for large graphs, as DFS might explore the entire graph along one path only to find the solution after looking at each node. If the graph is infinite, the search might not terminate. This path may not be the most optimal path to the solution either.\n",
        "\n",
        "#### Iterative Deepening Search\n",
        "Iterative deepening uses solves this problem by limiting the depth of any one path taken by the DFS and increases this limit iteratively. \n",
        "\n",
        "This ensures that we never explore nodes that have a distance greater than a certain threshold for any iven iteration, meaning that we never explore out infinitely. \n",
        "\n",
        "This means that we never end up exploring along infinite dead-end paths, since the length of each path is capped by some length at each iteration. It also means that we find the shortest possible path to the solution."
      ],
      "metadata": {
        "id": "1jDrCnXa-OSB"
      }
    },
    {
      "cell_type": "markdown",
      "source": [],
      "metadata": {
        "id": "jxygPdXu-RvI"
      }
    }
  ],
  "metadata": {
    "colab": {
      "provenance": []
    },
    "kernelspec": {
      "name": "python3",
      "display_name": "Python 3"
    },
    "language_info": {
      "name": "python"
    },
    "nteract": {
      "version": "nteract-front-end@1.0.0"
    }
  },
  "nbformat": 4,
  "nbformat_minor": 0
}